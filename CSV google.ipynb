{
 "cells": [
  {
   "cell_type": "code",
   "execution_count": null,
   "id": "9821023b",
   "metadata": {},
   "outputs": [],
   "source": [
    "##BIBLIOTECAS\n"
   ]
  },
  {
   "cell_type": "code",
   "execution_count": null,
   "id": "d7678d6d",
   "metadata": {},
   "outputs": [],
   "source": [
    "NECESSÁRIO INSTALAÇÃO DAS SEGUINTES BIBLIOTECAS:\n",
    "pandas\n",
    "numpy\n",
    "matplotlib\n",
    "seaborn\n",
    "scipy\n",
    "\n",
    "## Google\n",
    "#google-api-core\n",
    "gcsfs\n",
    "pandas_gbq\n",
    "google-auth\n",
    "google-cloud-core\n",
    "google-cloud-logging\n",
    "google-cloud-storage\n",
    "google-cloud-bigquery\n",
    "\n",
    "APÓS A INSTALÇÃO DAS BIBLIOTECAS PODE-SE PROSSEGUIR PARA O PASSO ABAIXO EFETUANDO A IMPORTAÇÃO DOS MESMOS."
   ]
  },
  {
   "cell_type": "code",
   "execution_count": null,
   "id": "cf790cb7",
   "metadata": {},
   "outputs": [],
   "source": [
    "import pandas as pd\n",
    "from google.cloud  import bigquery\n",
    "from google.oauth2 import service_account"
   ]
  },
  {
   "cell_type": "code",
   "execution_count": null,
   "id": "d306e3d3",
   "metadata": {},
   "outputs": [],
   "source": [
    "mercado = pd.read_csv(\"MERCADOS_DEMANDA_GPRODUTOS_2022-07-22.csv\", delimiter=\";\")"
   ]
  },
  {
   "cell_type": "code",
   "execution_count": null,
   "id": "cd115b21",
   "metadata": {},
   "outputs": [],
   "source": [
    "mercado"
   ]
  },
  {
   "cell_type": "code",
   "execution_count": null,
   "id": "ca8e4a0e",
   "metadata": {},
   "outputs": [],
   "source": [
    "key_path =\"gcp.json\"\n",
    "credentials = service_account.Credentials.from_service_account_file(\n",
    "        key_path, scopes = ([\"https://www.googleapis.com/auth/cloud-plataform\"]))"
   ]
  },
  {
   "cell_type": "code",
   "execution_count": null,
   "id": "e664633a",
   "metadata": {},
   "outputs": [],
   "source": [
    "mercado.to_gbq(credentials = credentials,\n",
    "                destination_table = 'envio_python.mercado',\n",
    "                  if_exists = 'replace') \n",
    "                    "
   ]
  },
  {
   "cell_type": "code",
   "execution_count": null,
   "id": "56002edd",
   "metadata": {},
   "outputs": [],
   "source": []
  },
  {
   "cell_type": "code",
   "execution_count": null,
   "id": "2003814f",
   "metadata": {},
   "outputs": [],
   "source": []
  }
 ],
 "metadata": {
  "kernelspec": {
   "display_name": "Python 3 (ipykernel)",
   "language": "python",
   "name": "python3"
  },
  "language_info": {
   "codemirror_mode": {
    "name": "ipython",
    "version": 3
   },
   "file_extension": ".py",
   "mimetype": "text/x-python",
   "name": "python",
   "nbconvert_exporter": "python",
   "pygments_lexer": "ipython3",
   "version": "3.9.12"
  }
 },
 "nbformat": 4,
 "nbformat_minor": 5
}
